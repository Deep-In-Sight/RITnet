{
 "cells": [
  {
   "cell_type": "code",
   "execution_count": 1,
   "id": "7774eb1f",
   "metadata": {},
   "outputs": [],
   "source": [
    "import torch\n",
    "from dataset import IrisDataset\n",
    "from torch.utils.data import DataLoader \n",
    "import numpy as np\n",
    "import matplotlib.pyplot as plt\n",
    "from dataset import transform\n",
    "import os\n",
    "from opt import parse_args\n",
    "from models import model_dict\n",
    "from tqdm import tqdm\n",
    "from utils import get_predictions\n",
    "import matplotlib.pyplot as plt"
   ]
  },
  {
   "cell_type": "code",
   "execution_count": 2,
   "id": "b5f0053c",
   "metadata": {},
   "outputs": [],
   "source": [
    "#os.environ[\"CUDA_DEVICE_ORDER\"]=\"PCI_BUS_ID\"   \n",
    "os.environ[\"CUDA_VISIBLE_DEVICES\"]=\"0\""
   ]
  },
  {
   "cell_type": "code",
   "execution_count": 3,
   "id": "e579795f",
   "metadata": {},
   "outputs": [],
   "source": [
    "if torch.cuda.is_available():\n",
    "    device=torch.device(\"cuda\")\n",
    "else:\n",
    "    device=torch.device(\"cpu\")"
   ]
  },
  {
   "cell_type": "code",
   "execution_count": 4,
   "id": "32f0bb1b",
   "metadata": {},
   "outputs": [],
   "source": [
    "model = model_dict['densenet']\n",
    "model  = model.to(device)\n",
    "filename = 'best_model.pkl'"
   ]
  },
  {
   "cell_type": "code",
   "execution_count": 5,
   "id": "72c3ef4f",
   "metadata": {},
   "outputs": [
    {
     "name": "stdout",
     "output_type": "stream",
     "text": [
      "model load ok!\n"
     ]
    }
   ],
   "source": [
    "if not os.path.exists(filename):\n",
    "    print(\"model path not found !!!\")\n",
    "else:\n",
    "    print('model load ok!')"
   ]
  },
  {
   "cell_type": "code",
   "execution_count": 6,
   "id": "80a07d73",
   "metadata": {
    "scrolled": true
   },
   "outputs": [
    {
     "data": {
      "text/plain": [
       "DenseNet2D(\n",
       "  (down_block1): DenseNet2D_down_block(\n",
       "    (conv1): Conv2d(1, 32, kernel_size=(3, 3), stride=(1, 1), padding=(1, 1))\n",
       "    (conv21): Conv2d(33, 32, kernel_size=(1, 1), stride=(1, 1))\n",
       "    (conv22): Conv2d(32, 32, kernel_size=(3, 3), stride=(1, 1), padding=(1, 1))\n",
       "    (conv31): Conv2d(65, 32, kernel_size=(1, 1), stride=(1, 1))\n",
       "    (conv32): Conv2d(32, 32, kernel_size=(3, 3), stride=(1, 1), padding=(1, 1))\n",
       "    (max_pool): AvgPool2d(kernel_size=None, stride=None, padding=0)\n",
       "    (relu): LeakyReLU(negative_slope=0.01)\n",
       "    (dropout1): Dropout(p=0.2, inplace=False)\n",
       "    (dropout2): Dropout(p=0.2, inplace=False)\n",
       "    (dropout3): Dropout(p=0.2, inplace=False)\n",
       "    (bn): BatchNorm2d(32, eps=1e-05, momentum=0.1, affine=True, track_running_stats=True)\n",
       "  )\n",
       "  (down_block2): DenseNet2D_down_block(\n",
       "    (conv1): Conv2d(32, 32, kernel_size=(3, 3), stride=(1, 1), padding=(1, 1))\n",
       "    (conv21): Conv2d(64, 32, kernel_size=(1, 1), stride=(1, 1))\n",
       "    (conv22): Conv2d(32, 32, kernel_size=(3, 3), stride=(1, 1), padding=(1, 1))\n",
       "    (conv31): Conv2d(96, 32, kernel_size=(1, 1), stride=(1, 1))\n",
       "    (conv32): Conv2d(32, 32, kernel_size=(3, 3), stride=(1, 1), padding=(1, 1))\n",
       "    (max_pool): AvgPool2d(kernel_size=(2, 2), stride=(2, 2), padding=0)\n",
       "    (relu): LeakyReLU(negative_slope=0.01)\n",
       "    (dropout1): Dropout(p=0.2, inplace=False)\n",
       "    (dropout2): Dropout(p=0.2, inplace=False)\n",
       "    (dropout3): Dropout(p=0.2, inplace=False)\n",
       "    (bn): BatchNorm2d(32, eps=1e-05, momentum=0.1, affine=True, track_running_stats=True)\n",
       "  )\n",
       "  (down_block3): DenseNet2D_down_block(\n",
       "    (conv1): Conv2d(32, 32, kernel_size=(3, 3), stride=(1, 1), padding=(1, 1))\n",
       "    (conv21): Conv2d(64, 32, kernel_size=(1, 1), stride=(1, 1))\n",
       "    (conv22): Conv2d(32, 32, kernel_size=(3, 3), stride=(1, 1), padding=(1, 1))\n",
       "    (conv31): Conv2d(96, 32, kernel_size=(1, 1), stride=(1, 1))\n",
       "    (conv32): Conv2d(32, 32, kernel_size=(3, 3), stride=(1, 1), padding=(1, 1))\n",
       "    (max_pool): AvgPool2d(kernel_size=(2, 2), stride=(2, 2), padding=0)\n",
       "    (relu): LeakyReLU(negative_slope=0.01)\n",
       "    (dropout1): Dropout(p=0.2, inplace=False)\n",
       "    (dropout2): Dropout(p=0.2, inplace=False)\n",
       "    (dropout3): Dropout(p=0.2, inplace=False)\n",
       "    (bn): BatchNorm2d(32, eps=1e-05, momentum=0.1, affine=True, track_running_stats=True)\n",
       "  )\n",
       "  (down_block4): DenseNet2D_down_block(\n",
       "    (conv1): Conv2d(32, 32, kernel_size=(3, 3), stride=(1, 1), padding=(1, 1))\n",
       "    (conv21): Conv2d(64, 32, kernel_size=(1, 1), stride=(1, 1))\n",
       "    (conv22): Conv2d(32, 32, kernel_size=(3, 3), stride=(1, 1), padding=(1, 1))\n",
       "    (conv31): Conv2d(96, 32, kernel_size=(1, 1), stride=(1, 1))\n",
       "    (conv32): Conv2d(32, 32, kernel_size=(3, 3), stride=(1, 1), padding=(1, 1))\n",
       "    (max_pool): AvgPool2d(kernel_size=(2, 2), stride=(2, 2), padding=0)\n",
       "    (relu): LeakyReLU(negative_slope=0.01)\n",
       "    (dropout1): Dropout(p=0.2, inplace=False)\n",
       "    (dropout2): Dropout(p=0.2, inplace=False)\n",
       "    (dropout3): Dropout(p=0.2, inplace=False)\n",
       "    (bn): BatchNorm2d(32, eps=1e-05, momentum=0.1, affine=True, track_running_stats=True)\n",
       "  )\n",
       "  (down_block5): DenseNet2D_down_block(\n",
       "    (conv1): Conv2d(32, 32, kernel_size=(3, 3), stride=(1, 1), padding=(1, 1))\n",
       "    (conv21): Conv2d(64, 32, kernel_size=(1, 1), stride=(1, 1))\n",
       "    (conv22): Conv2d(32, 32, kernel_size=(3, 3), stride=(1, 1), padding=(1, 1))\n",
       "    (conv31): Conv2d(96, 32, kernel_size=(1, 1), stride=(1, 1))\n",
       "    (conv32): Conv2d(32, 32, kernel_size=(3, 3), stride=(1, 1), padding=(1, 1))\n",
       "    (max_pool): AvgPool2d(kernel_size=(2, 2), stride=(2, 2), padding=0)\n",
       "    (relu): LeakyReLU(negative_slope=0.01)\n",
       "    (dropout1): Dropout(p=0.2, inplace=False)\n",
       "    (dropout2): Dropout(p=0.2, inplace=False)\n",
       "    (dropout3): Dropout(p=0.2, inplace=False)\n",
       "    (bn): BatchNorm2d(32, eps=1e-05, momentum=0.1, affine=True, track_running_stats=True)\n",
       "  )\n",
       "  (up_block1): DenseNet2D_up_block_concat(\n",
       "    (conv11): Conv2d(64, 32, kernel_size=(1, 1), stride=(1, 1))\n",
       "    (conv12): Conv2d(32, 32, kernel_size=(3, 3), stride=(1, 1), padding=(1, 1))\n",
       "    (conv21): Conv2d(96, 32, kernel_size=(1, 1), stride=(1, 1))\n",
       "    (conv22): Conv2d(32, 32, kernel_size=(3, 3), stride=(1, 1), padding=(1, 1))\n",
       "    (relu): LeakyReLU(negative_slope=0.01)\n",
       "    (dropout1): Dropout(p=0.2, inplace=False)\n",
       "    (dropout2): Dropout(p=0.2, inplace=False)\n",
       "  )\n",
       "  (up_block2): DenseNet2D_up_block_concat(\n",
       "    (conv11): Conv2d(64, 32, kernel_size=(1, 1), stride=(1, 1))\n",
       "    (conv12): Conv2d(32, 32, kernel_size=(3, 3), stride=(1, 1), padding=(1, 1))\n",
       "    (conv21): Conv2d(96, 32, kernel_size=(1, 1), stride=(1, 1))\n",
       "    (conv22): Conv2d(32, 32, kernel_size=(3, 3), stride=(1, 1), padding=(1, 1))\n",
       "    (relu): LeakyReLU(negative_slope=0.01)\n",
       "    (dropout1): Dropout(p=0.2, inplace=False)\n",
       "    (dropout2): Dropout(p=0.2, inplace=False)\n",
       "  )\n",
       "  (up_block3): DenseNet2D_up_block_concat(\n",
       "    (conv11): Conv2d(64, 32, kernel_size=(1, 1), stride=(1, 1))\n",
       "    (conv12): Conv2d(32, 32, kernel_size=(3, 3), stride=(1, 1), padding=(1, 1))\n",
       "    (conv21): Conv2d(96, 32, kernel_size=(1, 1), stride=(1, 1))\n",
       "    (conv22): Conv2d(32, 32, kernel_size=(3, 3), stride=(1, 1), padding=(1, 1))\n",
       "    (relu): LeakyReLU(negative_slope=0.01)\n",
       "    (dropout1): Dropout(p=0.2, inplace=False)\n",
       "    (dropout2): Dropout(p=0.2, inplace=False)\n",
       "  )\n",
       "  (up_block4): DenseNet2D_up_block_concat(\n",
       "    (conv11): Conv2d(64, 32, kernel_size=(1, 1), stride=(1, 1))\n",
       "    (conv12): Conv2d(32, 32, kernel_size=(3, 3), stride=(1, 1), padding=(1, 1))\n",
       "    (conv21): Conv2d(96, 32, kernel_size=(1, 1), stride=(1, 1))\n",
       "    (conv22): Conv2d(32, 32, kernel_size=(3, 3), stride=(1, 1), padding=(1, 1))\n",
       "    (relu): LeakyReLU(negative_slope=0.01)\n",
       "    (dropout1): Dropout(p=0.2, inplace=False)\n",
       "    (dropout2): Dropout(p=0.2, inplace=False)\n",
       "  )\n",
       "  (out_conv1): Conv2d(32, 4, kernel_size=(1, 1), stride=(1, 1))\n",
       "  (dropout1): Dropout(p=0.2, inplace=False)\n",
       ")"
      ]
     },
     "execution_count": 6,
     "metadata": {},
     "output_type": "execute_result"
    }
   ],
   "source": [
    "model.load_state_dict(torch.load(filename))\n",
    "model = model.to(device)\n",
    "model.eval()"
   ]
  },
  {
   "cell_type": "code",
   "execution_count": 7,
   "id": "29c114b5",
   "metadata": {},
   "outputs": [],
   "source": [
    "test_set = IrisDataset(filepath = 'Semantic_Segmentation_Dataset/',\\\n",
    "                                 split = 'test',transform = transform)\n",
    "    \n",
    "testloader = DataLoader(test_set, batch_size = 4,\n",
    "                             shuffle=False, num_workers=2)"
   ]
  },
  {
   "cell_type": "code",
   "execution_count": 8,
   "id": "264820da",
   "metadata": {},
   "outputs": [],
   "source": [
    "counter=0\n",
    "    \n",
    "os.makedirs('test/labels/',exist_ok=True)\n",
    "os.makedirs('test/output/',exist_ok=True)\n",
    "os.makedirs('test/mask/',exist_ok=True)"
   ]
  },
  {
   "cell_type": "code",
   "execution_count": 11,
   "id": "7d7839a4",
   "metadata": {},
   "outputs": [
    {
     "data": {
      "text/plain": [
       "torch.Size([3, 1, 640, 400])"
      ]
     },
     "execution_count": 11,
     "metadata": {},
     "output_type": "execute_result"
    }
   ],
   "source": [
    "data.shape"
   ]
  },
  {
   "cell_type": "code",
   "execution_count": 9,
   "id": "724e2c04",
   "metadata": {},
   "outputs": [
    {
     "name": "stderr",
     "output_type": "stream",
     "text": [
      "100%|█████████████████████████████████████████████████████████| 100/100 [00:11<00:00,  8.46it/s]\n"
     ]
    },
    {
     "data": {
      "image/png": "[encoded data removed]",
      "text/plain": [
       "<Figure size 432x288 with 1 Axes>"
      ]
     },
     "metadata": {
      "needs_background": "light"
     },
     "output_type": "display_data"
    }
   ],
   "source": [
    "with torch.no_grad():\n",
    "    for i, batchdata in tqdm(enumerate(testloader),total=len(testloader)):\n",
    "        img,labels,index,x,y= batchdata\n",
    "        data = img.to(device)       \n",
    "        output = model(data)            \n",
    "        predict = get_predictions(output)\n",
    "        for j in range (len(index)):       \n",
    "            np.save('test/labels/{}.npy'.format(index[j]),predict[j].cpu().numpy())\n",
    "            try:\n",
    "                plt.imsave('test/output/{}.jpg'.format(index[j]),255*labels[j].cpu().numpy())\n",
    "            except:\n",
    "                pass\n",
    "                \n",
    "            pred_img = predict[j].cpu().numpy()/3.0\n",
    "            inp = img[j].squeeze() * 0.5 + 0.5\n",
    "            img_orig = np.clip(inp,0,1)\n",
    "            img_orig = np.array(img_orig)\n",
    "            combine = np.hstack([img_orig,pred_img])\n",
    "            plt.imsave('test/mask/{}.jpg'.format(index[j]),combine)\n",
    "            plt.imshow(combine)"
   ]
  },
  {
   "cell_type": "code",
   "execution_count": 20,
   "id": "9c04b20d",
   "metadata": {},
   "outputs": [],
   "source": [
    "# single image test"
   ]
  },
  {
   "cell_type": "code",
   "execution_count": 80,
   "id": "868c26c7",
   "metadata": {},
   "outputs": [],
   "source": [
    "from PIL import Image\n",
    "import cv2\n",
    "import numpy as np\n",
    "from torchvision import transforms"
   ]
  },
  {
   "cell_type": "code",
   "execution_count": 81,
   "id": "03bdc413",
   "metadata": {},
   "outputs": [],
   "source": [
    "# img = cv2.imread('Semantic_Segmentation_Dataset/test/images/NIA_EYE_U1_053_VR_IR_F_REYE_0901.png', 1)\n",
    "# img = np.expand_dims(img, axis=0)\n",
    "# #img = np.swapaxes(img, 0,2)\n",
    "# img = torch.from_numpy(img).type(torch.FloatTensor)"
   ]
  },
  {
   "cell_type": "code",
   "execution_count": null,
   "id": "390eae37",
   "metadata": {},
   "outputs": [],
   "source": []
  },
  {
   "cell_type": "code",
   "execution_count": 140,
   "id": "bc8fc23f",
   "metadata": {},
   "outputs": [],
   "source": [
    "img = Image.open('Semantic_Segmentation_Dataset/test/images/NIA_EYE_U1_053_VR_IR_F_REYE_0901.png').convert(\"L\")\n",
    "# label = np.resize(label,(W,H))\n",
    "#img = Image.fromarray(img)"
   ]
  },
  {
   "cell_type": "code",
   "execution_count": 141,
   "id": "f24e8808",
   "metadata": {},
   "outputs": [],
   "source": [
    "transform = transforms.Compose(\n",
    "    [transforms.ToTensor(),\n",
    "     transforms.Normalize([0.5], [0.5])])"
   ]
  },
  {
   "cell_type": "code",
   "execution_count": 142,
   "id": "119fc853",
   "metadata": {},
   "outputs": [],
   "source": [
    "img = Image.open('Semantic_Segmentation_Dataset/test/images/NIA_EYE_U1_053_VR_IR_F_REYE_0901.png').convert(\"L\")\n",
    "H, W = img.width , img.height\n",
    "\n",
    "table = 255.0*(np.linspace(0, 1, 256)**0.8)\n",
    "img = cv2.LUT(np.array(img), table)\n",
    "clahe = cv2.createCLAHE(clipLimit=1.5, tileGridSize=(8,8))\n",
    "img = clahe.apply(np.array(np.uint8(img)))    \n",
    "img = Image.fromarray(img)\n",
    "img = np.array(img)\n",
    "img = np.expand_dims(img, axis=0)\n",
    "img = np.expand_dims(img, axis=0)\n",
    "#img = transform(img)\n",
    "# img = np.array(img)\n",
    "# img = np.expand_dims(img, axis=0)\n",
    "img = torch.from_numpy(img).type(torch.FloatTensor)"
   ]
  },
  {
   "cell_type": "code",
   "execution_count": 143,
   "id": "c2ae5cc2",
   "metadata": {},
   "outputs": [],
   "source": [
    "data = img.to(device)\n",
    "output = model(data)"
   ]
  },
  {
   "cell_type": "code",
   "execution_count": 150,
   "id": "b0d29cf9",
   "metadata": {},
   "outputs": [],
   "source": [
    "predict = get_predictions(output)\n",
    "pred_img = predict.cpu().numpy()/3.0"
   ]
  },
  {
   "cell_type": "code",
   "execution_count": 152,
   "id": "342e0fc3",
   "metadata": {},
   "outputs": [
    {
     "data": {
      "text/plain": [
       "<matplotlib.image.AxesImage at 0x7fe3dd8236a0>"
      ]
     },
     "execution_count": 152,
     "metadata": {},
     "output_type": "execute_result"
    },
    {
     "data": {
      "image/png": "[encoded data removed]",
      "text/plain": [
       "<Figure size 432x288 with 1 Axes>"
      ]
     },
     "metadata": {
      "needs_background": "light"
     },
     "output_type": "display_data"
    }
   ],
   "source": [
    "plt.imshow(pred_img[0])"
   ]
  },
  {
   "cell_type": "code",
   "execution_count": null,
   "id": "f3776df3",
   "metadata": {},
   "outputs": [],
   "source": []
  },
  {
   "cell_type": "code",
   "execution_count": 129,
   "id": "c3aef7bb",
   "metadata": {},
   "outputs": [],
   "source": [
    "pred_img = predict.cpu().numpy()/3.0"
   ]
  },
  {
   "cell_type": "code",
   "execution_count": 130,
   "id": "5c9d7718",
   "metadata": {},
   "outputs": [],
   "source": [
    "inp = img.squeeze() * 0.5 + 0.5"
   ]
  },
  {
   "cell_type": "code",
   "execution_count": 131,
   "id": "222c6498",
   "metadata": {},
   "outputs": [],
   "source": [
    "img_orig = np.clip(inp,0,1)\n",
    "img_orig = np.array(img_orig)"
   ]
  },
  {
   "cell_type": "code",
   "execution_count": 139,
   "id": "168e9406",
   "metadata": {},
   "outputs": [
    {
     "data": {
      "text/plain": [
       "<matplotlib.image.AxesImage at 0x7fe39c382898>"
      ]
     },
     "execution_count": 139,
     "metadata": {},
     "output_type": "execute_result"
    },
    {
     "data": {
      "image/png": "[encoded data removed]",
      "text/plain": [
       "<Figure size 432x288 with 1 Axes>"
      ]
     },
     "metadata": {
      "needs_background": "light"
     },
     "output_type": "display_data"
    }
   ],
   "source": [
    "plt.imshow(pred_img[0])"
   ]
  },
  {
   "cell_type": "code",
   "execution_count": null,
   "id": "6ed91835",
   "metadata": {},
   "outputs": [],
   "source": []
  }
 ],
 "metadata": {
  "kernelspec": {
   "display_name": "Python 3 (ipykernel)",
   "language": "python",
   "name": "python3"
  },
  "language_info": {
   "codemirror_mode": {
    "name": "ipython",
    "version": 3
   },
   "file_extension": ".py",
   "mimetype": "text/x-python",
   "name": "python",
   "nbconvert_exporter": "python",
   "pygments_lexer": "ipython3",
   "version": "3.10.4"
  }
 },
 "nbformat": 4,
 "nbformat_minor": 5
}
